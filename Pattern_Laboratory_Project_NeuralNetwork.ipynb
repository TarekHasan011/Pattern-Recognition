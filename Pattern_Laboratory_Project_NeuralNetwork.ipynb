{
  "nbformat": 4,
  "nbformat_minor": 0,
  "metadata": {
    "colab": {
      "name": "Pattern_Laboratory_Project_NeuralNetwork.ipynb",
      "provenance": [],
      "authorship_tag": "ABX9TyPt/DfXQY+9kzU3XaRoEltD",
      "include_colab_link": true
    },
    "kernelspec": {
      "name": "python3",
      "display_name": "Python 3"
    },
    "language_info": {
      "name": "python"
    },
    "accelerator": "GPU"
  },
  "cells": [
    {
      "cell_type": "markdown",
      "metadata": {
        "id": "view-in-github",
        "colab_type": "text"
      },
      "source": [
        "<a href=\"https://colab.research.google.com/github/TarekHasan011/Pattern-Recognition/blob/main/Pattern_Laboratory_Project_NeuralNetwork.ipynb\" target=\"_parent\"><img src=\"https://colab.research.google.com/assets/colab-badge.svg\" alt=\"Open In Colab\"/></a>"
      ]
    },
    {
      "cell_type": "code",
      "metadata": {
        "id": "0SqIiL_BNouS"
      },
      "source": [
        "import tensorflow as tf\n",
        "tf.test.gpu_device_name()\n",
        "from tensorflow.python.client import device_lib\n",
        "device_lib.list_local_devices()"
      ],
      "execution_count": null,
      "outputs": []
    },
    {
      "cell_type": "code",
      "metadata": {
        "id": "Uv4rkopOO1lR"
      },
      "source": [
        "import pandas as pd\n",
        "from pandas.api.types import is_string_dtype\n",
        "data = pd.read_csv('healthcare-dataset-stroke-data.csv', na_values='N/A')\n",
        "\n",
        "for column in data.columns:\n",
        "    if (is_string_dtype(data[column].dtype)):\n",
        "        data[column] = data[column].str.strip()"
      ],
      "execution_count": null,
      "outputs": []
    },
    {
      "cell_type": "code",
      "metadata": {
        "id": "O-5B78RkO5fJ"
      },
      "source": [
        "from sklearn.model_selection import train_test_split\n",
        "X = data.loc[:, data.columns != 'stroke']\n",
        "X = X.loc[:, X.columns != 'id']\n",
        "y = data['stroke']\n",
        "y = y ^ 1\n",
        "train_val_X, test_X, train_val_y, test_y = train_test_split(X,y,test_size=0.2,stratify=y)\n",
        "train_X, val_X, train_y, val_y = train_test_split(train_val_X, train_val_y, test_size=0.125,stratify=train_val_y) # 70 train - 10 validation - 20 test"
      ],
      "execution_count": null,
      "outputs": []
    },
    {
      "cell_type": "code",
      "metadata": {
        "id": "15fXgOcePW3x"
      },
      "source": [
        "from sklearn.impute import SimpleImputer\n",
        "from pandas.api.types import is_string_dtype\n",
        "\n",
        "si_train_X = pd.DataFrame()\n",
        "si_val_X = pd.DataFrame()\n",
        "si_test_X = pd.DataFrame()\n",
        "\n",
        "for column in train_X.columns:\n",
        "  if (is_string_dtype(train_X[column].dtype)):\n",
        "    si = SimpleImputer(strategy='most_frequent')\n",
        "  else:\n",
        "    si = SimpleImputer(strategy='median')\n",
        "  si.fit(train_X[[column]])\n",
        "  si_train_X[column] = si.transform(train_X[[column]]).flatten()\n",
        "  si_val_X[column] = si.transform(val_X[[column]]).flatten()\n",
        "  si_test_X[column] = si.transform(test_X[[column]]).flatten()"
      ],
      "execution_count": null,
      "outputs": []
    },
    {
      "cell_type": "code",
      "metadata": {
        "id": "pm6x3aN_PYbx"
      },
      "source": [
        "from sklearn.preprocessing import LabelEncoder\n",
        "le = LabelEncoder()\n",
        "le.fit(train_y)\n",
        "train_y = le.transform(train_y)\n",
        "val_y = le.transform(val_y)\n",
        "test_y = le.transform(test_y)\n",
        "\n",
        "categorical_feature = ['gender','ever_married','work_type','Residence_type','smoking_status']\n",
        "l_train_X = pd.DataFrame()\n",
        "l_val_X = pd.DataFrame()\n",
        "l_test_X = pd.DataFrame()\n",
        "\n",
        "for column in train_X.columns:\n",
        "  if column in categorical_feature:\n",
        "    le.fit(si_train_X[column])\n",
        "    l_train_X[column] = le.transform(si_train_X[column])\n",
        "    l_val_X[column] = le.transform(si_val_X[column])\n",
        "    l_test_X[column] = le.transform(si_test_X[column])\n",
        "  else:\n",
        "    l_train_X[column] = si_train_X[column].copy()\n",
        "    l_val_X[column] = si_val_X[column].copy()\n",
        "    l_test_X[column] = si_test_X[column].copy()"
      ],
      "execution_count": null,
      "outputs": []
    },
    {
      "cell_type": "code",
      "metadata": {
        "id": "V3_mZtY2PcZJ"
      },
      "source": [
        "from sklearn.preprocessing import StandardScaler\n",
        "ss = StandardScaler()\n",
        "ss.fit(l_train_X)\n",
        "ss_train_X = ss.transform(l_train_X)\n",
        "ss_val_X = ss.transform(l_val_X)\n",
        "ss_test_X = ss.transform(l_test_X)"
      ],
      "execution_count": null,
      "outputs": []
    },
    {
      "cell_type": "code",
      "metadata": {
        "id": "sd-iLh2dPgQp"
      },
      "source": [
        "from keras.models import Sequential\n",
        "from keras.layers import Dense\n",
        "model = Sequential()\n",
        "model.add(Dense(100,input_dim=10,activation='relu'))\n",
        "model.add(Dense(1000,activation='relu'))\n",
        "model.add(Dense(10000,activation='relu'))\n",
        "model.add(Dense(1000,activation='relu'))\n",
        "model.add(Dense(100,activation='relu'))\n",
        "model.add(Dense(10,activation='relu'))\n",
        "model.add(Dense(1,activation='sigmoid'))\n",
        "model.compile(loss='binary_crossentropy',optimizer='adam',metrics=['accuracy'])\n",
        "print(model.summary())"
      ],
      "execution_count": null,
      "outputs": []
    },
    {
      "cell_type": "code",
      "metadata": {
        "id": "mTg0p8DFQJhR"
      },
      "source": [
        "from keras.utils.vis_utils import plot_model\n",
        "plot_model(model,to_file='model.png',show_shapes=True,show_layer_names=True)"
      ],
      "execution_count": null,
      "outputs": []
    },
    {
      "cell_type": "code",
      "metadata": {
        "id": "Qpif3_BaQMlx"
      },
      "source": [
        "import matplotlib.pyplot as plt\n",
        "from keras.callbacks import EarlyStopping, ModelCheckpoint\n",
        "es = EarlyStopping(monitor='val_loss',mode='min',verbose=1,patience=200)\n",
        "mc = ModelCheckpoint('best_model.h5',monitor='val_loss',mode='min',verbose=1,save_best_only=True)\n",
        "\n",
        "hist = model.fit(ss_train_X,train_y,validation_data=(ss_val_X,val_y), epochs=2000,batch_size=512,callbacks=[es,mc])\n",
        "plt.plot(hist.history['loss'],label='train')\n",
        "plt.plot(hist.history['val_loss'],label='test')\n",
        "plt.legend()\n",
        "plt.show()"
      ],
      "execution_count": null,
      "outputs": []
    },
    {
      "cell_type": "code",
      "metadata": {
        "id": "IqKvrGExQYnC"
      },
      "source": [
        "import pickle as pkl\n",
        "model = Sequential()\n",
        "model.add(Dense(100,input_dim=10,activation='relu'))\n",
        "model.add(Dense(1000,activation='relu'))\n",
        "model.add(Dense(10000,activation='relu'))\n",
        "model.add(Dense(1000,activation='relu'))\n",
        "model.add(Dense(100,activation='relu'))\n",
        "model.add(Dense(10,activation='relu'))\n",
        "model.add(Dense(1,activation='sigmoid'))\n",
        "model.compile(loss='binary_crossentropy',optimizer='adam',metrics=['accuracy'])\n",
        "model.load_weights('best_model.h5')"
      ],
      "execution_count": null,
      "outputs": []
    },
    {
      "cell_type": "code",
      "metadata": {
        "colab": {
          "base_uri": "https://localhost:8080/"
        },
        "id": "muNv77JYSZ5f",
        "outputId": "1201caef-eece-42a4-bd34-5d5ea0abfdae"
      },
      "source": [
        "model.evaluate(ss_test_X,test_y)"
      ],
      "execution_count": null,
      "outputs": [
        {
          "output_type": "stream",
          "text": [
            "32/32 [==============================] - 1s 2ms/step - loss: 0.1616 - accuracy: 0.9493\n"
          ],
          "name": "stdout"
        },
        {
          "output_type": "execute_result",
          "data": {
            "text/plain": [
              "[0.1728934347629547, 0.951076328754425]"
            ]
          },
          "metadata": {
            "tags": []
          },
          "execution_count": 12
        }
      ]
    },
    {
      "cell_type": "code",
      "metadata": {
        "colab": {
          "base_uri": "https://localhost:8080/"
        },
        "id": "ZVsiYwA6SkFP",
        "outputId": "e8d323d9-fab0-4c02-c289-97cbddb6bde0"
      },
      "source": [
        "from sklearn.metrics import accuracy_score, f1_score, precision_score, recall_score\n",
        "p = model.predict(ss_test_X)\n",
        "predictions = [int(x>0.5) for x in p]\n",
        "print(f'Accuracy: {accuracy_score(test_y,predictions)}')\n",
        "print(f'Precision: {precision_score(test_y,predictions)}')\n",
        "print(f'Recall: {recall_score(test_y,predictions)}')\n",
        "print(f'F1 Score: {f1_score(test_y,predictions)}')"
      ],
      "execution_count": null,
      "outputs": [
        {
          "output_type": "stream",
          "text": [
            "Accuracy: 0.9510763209393346\n",
            "Precision: 0.9510763209393346\n",
            "Recall: 1.0\n",
            "F1 Score: 0.9749247743229689\n"
          ],
          "name": "stdout"
        }
      ]
    }
  ]
}
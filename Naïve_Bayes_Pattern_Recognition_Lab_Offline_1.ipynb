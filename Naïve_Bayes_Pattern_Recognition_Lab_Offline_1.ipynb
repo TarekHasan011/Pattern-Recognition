{
  "nbformat": 4,
  "nbformat_minor": 0,
  "metadata": {
    "colab": {
      "name": "Naïve Bayes - Pattern Recognition Lab-Offline 1.ipynb",
      "provenance": [],
      "collapsed_sections": [],
      "authorship_tag": "ABX9TyP1cYmxifijeBegJ7JHARfK",
      "include_colab_link": true
    },
    "kernelspec": {
      "name": "python3",
      "display_name": "Python 3"
    }
  },
  "cells": [
    {
      "cell_type": "markdown",
      "metadata": {
        "id": "view-in-github",
        "colab_type": "text"
      },
      "source": [
        "<a href=\"https://colab.research.google.com/github/TarekHasan011/Pattern-Recognition/blob/main/Na%C3%AFve_Bayes_Pattern_Recognition_Lab_Offline_1.ipynb\" target=\"_parent\"><img src=\"https://colab.research.google.com/assets/colab-badge.svg\" alt=\"Open In Colab\"/></a>"
      ]
    },
    {
      "cell_type": "code",
      "metadata": {
        "id": "mqeKpS_1GuY5"
      },
      "source": [
        "#Reading csv file\n",
        "import pandas as pd\n",
        "data = pd.read_csv('tic-tac-toe.csv')"
      ],
      "execution_count": null,
      "outputs": []
    },
    {
      "cell_type": "code",
      "metadata": {
        "id": "NsHByMy3InyT"
      },
      "source": [
        "label_column_name = 'Class'\n",
        "X = data.loc[:, data.columns != label_column_name]\n",
        "y = data[label_column_name]"
      ],
      "execution_count": null,
      "outputs": []
    },
    {
      "cell_type": "code",
      "metadata": {
        "id": "wQRG00jpJDzz"
      },
      "source": [
        "#Preprocessing\n",
        "from sklearn.preprocessing import LabelEncoder\n",
        "le = LabelEncoder()\n",
        "for column in X.columns:\n",
        "    X[column] = le.fit_transform(X[column])\n",
        "\n",
        "class_label = {\n",
        "    'negative' : 0,\n",
        "    'positive' : 1\n",
        "}\n",
        "y = y.map(class_label)"
      ],
      "execution_count": null,
      "outputs": []
    },
    {
      "cell_type": "code",
      "metadata": {
        "id": "lDj9MgELNBU6"
      },
      "source": [
        "#Split Data (train and test)\n",
        "from sklearn.model_selection import train_test_split\n",
        "#without stratification\n",
        "train_X, test_X, train_y, test_y = train_test_split(X,y,test_size=0.1)\n",
        "#with stratification\n",
        "s_train_X, s_test_X, s_train_y, s_test_y = train_test_split(X,y,test_size=0.1,stratify=y)"
      ],
      "execution_count": null,
      "outputs": []
    },
    {
      "cell_type": "code",
      "metadata": {
        "id": "wkt8vE_2SzQy"
      },
      "source": [
        "import numpy as np\n",
        "learning_result = {}\n",
        "\n",
        "def fit(features,labels):\n",
        "    types_of_value = {}\n",
        "    for column in features.columns:\n",
        "        types_of_value[column] = len(set(features[column]))\n",
        "    types_of_value[label_column_name] = len(set(labels))\n",
        "\n",
        "    learning_result.clear()\n",
        "    total_data = len(labels)\n",
        "    # for prior probabilities : class -> probability\n",
        "    # for posterior probabilities : (feature, feature value, class level) -> probability  \n",
        "    for i in range(max(list(labels))+1):\n",
        "        learning_result[i] = (list(labels).count(i)+1) / (total_data+types_of_value[label_column_name])\n",
        "    \n",
        "\n",
        "    labels = np.array(labels)\n",
        "\n",
        "    for x in features.columns:\n",
        "        temp = set()\n",
        "        i = 0\n",
        "        for f in features[x]:\n",
        "            c = labels[i]\n",
        "            if learning_result.get((x,f,c)) == None:\n",
        "                learning_result[(x,f,c)] = 1\n",
        "            else:\n",
        "                learning_result[(x,f,c)] += 1\n",
        "\n",
        "            temp.add((x,f,c))\n",
        "            i+=1\n",
        "\n",
        "        for item in temp:\n",
        "            learning_result[item] = (learning_result[item]+1) / (list(labels).count(item[2])+types_of_value[item[0]])\n",
        "\n",
        "    return\n",
        "\n"
      ],
      "execution_count": null,
      "outputs": []
    },
    {
      "cell_type": "code",
      "metadata": {
        "id": "ueyljwOimZ6Z"
      },
      "source": [
        "def predict(features):\n",
        "    features_name = features.columns\n",
        "    features_name = np.array(features_name)\n",
        "    \n",
        "    predicted_result = []\n",
        "    features = np.array(features)\n",
        "\n",
        "    for x in features:\n",
        "        maximum_result = 0\n",
        "        level = 0\n",
        "        for c in class_label:\n",
        "            prod = learning_result[class_label[c]]\n",
        "            for i in range(len(x)):\n",
        "                prod *= learning_result[(features_name[i],x[i],class_label[c])]\n",
        "            if prod > maximum_result:\n",
        "                maximum_result = prod\n",
        "                level = class_label[c]\n",
        "        predicted_result.append(level)\n",
        "    return predicted_result\n"
      ],
      "execution_count": null,
      "outputs": []
    },
    {
      "cell_type": "code",
      "metadata": {
        "id": "1lnqKa-mXhCq"
      },
      "source": [
        "fit(train_X,train_y)\n",
        "predict_y = predict(test_X)"
      ],
      "execution_count": null,
      "outputs": []
    },
    {
      "cell_type": "code",
      "metadata": {
        "colab": {
          "base_uri": "https://localhost:8080/"
        },
        "id": "lq9BjqR_rIMJ",
        "outputId": "5a72ed58-805d-4a51-fa50-e74283d25782"
      },
      "source": [
        "from sklearn.metrics import accuracy_score, precision_score, recall_score, f1_score\n",
        "#without stratification\n",
        "accuracy = accuracy_score(list(test_y),predict_y)\n",
        "precision = precision_score(list(test_y),predict_y)\n",
        "recall = recall_score(list(test_y),predict_y)\n",
        "f1 = f1_score(list(test_y),predict_y)\n",
        "print(f'{accuracy} {precision} {recall} {f1}')"
      ],
      "execution_count": null,
      "outputs": [
        {
          "output_type": "stream",
          "text": [
            "0.6979166666666666 0.7361111111111112 0.8412698412698413 0.7851851851851852\n"
          ],
          "name": "stdout"
        }
      ]
    },
    {
      "cell_type": "code",
      "metadata": {
        "id": "M7-VhP2qsIBR"
      },
      "source": [
        "fit(s_train_X,s_train_y)\n",
        "s_predict_y = predict(s_test_X)"
      ],
      "execution_count": null,
      "outputs": []
    },
    {
      "cell_type": "code",
      "metadata": {
        "colab": {
          "base_uri": "https://localhost:8080/"
        },
        "id": "kXVR4DrpsUuI",
        "outputId": "57ad44ee-5f3b-49ed-a621-a7b8332d1b72"
      },
      "source": [
        "#with stratification\n",
        "s_accuracy = accuracy_score(list(s_test_y), s_predict_y)\n",
        "s_precision = precision_score(list(s_test_y), s_predict_y)\n",
        "s_recall = recall_score(list(s_test_y), s_predict_y)\n",
        "s_f1 = f1_score(list(s_test_y), s_predict_y)\n",
        "print(f'{s_accuracy} {s_precision} {s_recall} {s_f1}')"
      ],
      "execution_count": null,
      "outputs": [
        {
          "output_type": "stream",
          "text": [
            "0.75 0.76 0.9047619047619048 0.8260869565217391\n"
          ],
          "name": "stdout"
        }
      ]
    },
    {
      "cell_type": "code",
      "metadata": {
        "colab": {
          "base_uri": "https://localhost:8080/"
        },
        "id": "xCbAKnL-3_WP",
        "outputId": "a05e3d3e-0944-4d9e-b248-ce6fa8969b90"
      },
      "source": [
        "#using sklearn for comparing\n",
        "from sklearn.naive_bayes import GaussianNB\n",
        "gnb = GaussianNB()\n",
        "gnb.fit(s_train_X, s_train_y)\n",
        "result = gnb.predict(s_test_X)\n",
        "print(f'{accuracy_score(result,s_test_y)} {precision_score(result, s_test_y)} {recall_score(result, s_test_y)} {f1_score(result, s_test_y)}')"
      ],
      "execution_count": null,
      "outputs": [
        {
          "output_type": "stream",
          "text": [
            "0.7291666666666666 1.0 0.7078651685393258 0.8289473684210525\n"
          ],
          "name": "stdout"
        }
      ]
    },
    {
      "cell_type": "code",
      "metadata": {
        "colab": {
          "base_uri": "https://localhost:8080/"
        },
        "id": "lG_P1O3V4dsI",
        "outputId": "b83462cc-9cea-4be5-d239-5892f3dfa0e5"
      },
      "source": [
        "from sklearn.naive_bayes import MultinomialNB\n",
        "clf = MultinomialNB()\n",
        "clf.fit(s_train_X, s_train_y)\n",
        "clf_result = clf.predict(s_test_X)\n",
        "print(f'{accuracy_score(clf_result,s_test_y)} {precision_score(clf_result, s_test_y)} {recall_score(clf_result, s_test_y)} {f1_score(clf_result, s_test_y)}')"
      ],
      "execution_count": null,
      "outputs": [
        {
          "output_type": "stream",
          "text": [
            "0.65625 1.0 0.65625 0.7924528301886793\n"
          ],
          "name": "stdout"
        }
      ]
    }
  ]
}
{
  "nbformat": 4,
  "nbformat_minor": 0,
  "metadata": {
    "colab": {
      "name": "Pattern_Laboratory_Project.ipynb",
      "provenance": [],
      "authorship_tag": "ABX9TyOoxiwgKVQ+yRrH66zotmdi",
      "include_colab_link": true
    },
    "kernelspec": {
      "name": "python3",
      "display_name": "Python 3"
    },
    "language_info": {
      "name": "python"
    }
  },
  "cells": [
    {
      "cell_type": "markdown",
      "metadata": {
        "id": "view-in-github",
        "colab_type": "text"
      },
      "source": [
        "<a href=\"https://colab.research.google.com/github/TarekHasan011/Pattern-Recognition/blob/main/Pattern_Laboratory_Project.ipynb\" target=\"_parent\"><img src=\"https://colab.research.google.com/assets/colab-badge.svg\" alt=\"Open In Colab\"/></a>"
      ]
    },
    {
      "cell_type": "markdown",
      "metadata": {
        "id": "HvP6ddlvEjtI"
      },
      "source": [
        "# Reading Data"
      ]
    },
    {
      "cell_type": "code",
      "metadata": {
        "id": "1Y3aqn_K_Za6"
      },
      "source": [
        "import pandas as pd\n",
        "from pandas.api.types import is_string_dtype\n",
        "data = pd.read_csv('healthcare-dataset-stroke-data.csv', na_values='N/A')\n",
        "\n",
        "for column in data.columns:\n",
        "    if (is_string_dtype(data[column].dtype)):\n",
        "        data[column] = data[column].str.strip()"
      ],
      "execution_count": null,
      "outputs": []
    },
    {
      "cell_type": "markdown",
      "metadata": {
        "id": "WaJZL3F-Endn"
      },
      "source": [
        "# Splitting Data"
      ]
    },
    {
      "cell_type": "code",
      "metadata": {
        "id": "3aPSwV8nAHGG"
      },
      "source": [
        "from sklearn.model_selection import train_test_split\n",
        "X = data.loc[:, data.columns != 'stroke']\n",
        "X = X.loc[:, X.columns != 'id']\n",
        "y = data['stroke'] ^ 1\n",
        "train_X, test_X, train_y, test_y = train_test_split(X,y,test_size=0.2,stratify=y)"
      ],
      "execution_count": null,
      "outputs": []
    },
    {
      "cell_type": "markdown",
      "metadata": {
        "id": "XXErgFsdEvF3"
      },
      "source": [
        "# Handling Missing Values"
      ]
    },
    {
      "cell_type": "code",
      "metadata": {
        "id": "TNQR-Z4aEyX3"
      },
      "source": [
        "from sklearn.impute import SimpleImputer\n",
        "from pandas.api.types import is_string_dtype\n",
        "\n",
        "si_train_X = pd.DataFrame()\n",
        "si_test_X = pd.DataFrame()\n",
        "\n",
        "for column in train_X.columns:\n",
        "  if (is_string_dtype(train_X[column].dtype)):\n",
        "    si = SimpleImputer(strategy='most_frequent')\n",
        "  else:\n",
        "    si = SimpleImputer(strategy='median')\n",
        "  si.fit(train_X[[column]])\n",
        "  si_train_X[column] = si.transform(train_X[[column]]).flatten()\n",
        "  si_test_X[column] = si.transform(test_X[[column]]).flatten()"
      ],
      "execution_count": null,
      "outputs": []
    },
    {
      "cell_type": "markdown",
      "metadata": {
        "id": "_HpHf5ZtFUDP"
      },
      "source": [
        "# Handling Text Features"
      ]
    },
    {
      "cell_type": "code",
      "metadata": {
        "id": "DJIiIPK8FTIv"
      },
      "source": [
        "from sklearn.preprocessing import LabelEncoder\n",
        "le = LabelEncoder()\n",
        "le.fit(train_y)\n",
        "train_y = le.transform(train_y)\n",
        "test_y = le.transform(test_y)\n",
        "\n",
        "categorical_feature = ['gender','ever_married','work_type','Residence_type','smoking_status']\n",
        "l_train_X = pd.DataFrame()\n",
        "l_test_X = pd.DataFrame()\n",
        "\n",
        "for column in train_X.columns:\n",
        "  if column in categorical_feature:\n",
        "    le.fit(si_train_X[column])\n",
        "    l_train_X[column] = le.transform(si_train_X[column])\n",
        "    l_test_X[column] = le.transform(si_test_X[column])\n",
        "  else:\n",
        "    l_train_X[column] = si_train_X[column].copy()\n",
        "    l_test_X[column] = si_test_X[column].copy()"
      ],
      "execution_count": null,
      "outputs": []
    },
    {
      "cell_type": "markdown",
      "metadata": {
        "id": "B5f6vl9SGS5f"
      },
      "source": [
        "# Scaling"
      ]
    },
    {
      "cell_type": "code",
      "metadata": {
        "id": "TRjf1bN5GT5M"
      },
      "source": [
        "from sklearn.preprocessing import StandardScaler\n",
        "ss = StandardScaler()\n",
        "ss.fit(l_train_X)\n",
        "ss_train_X = ss.transform(l_train_X)\n",
        "ss_test_X = ss.transform(l_test_X)"
      ],
      "execution_count": null,
      "outputs": []
    },
    {
      "cell_type": "markdown",
      "metadata": {
        "id": "7bW1zmwpGb-2"
      },
      "source": [
        "# SVM "
      ]
    },
    {
      "cell_type": "code",
      "metadata": {
        "colab": {
          "base_uri": "https://localhost:8080/"
        },
        "id": "tY8NLoRwGfRO",
        "outputId": "0d2eaf1b-83a2-4ccf-dcca-f13a9228f17f"
      },
      "source": [
        "from sklearn.svm import SVC\n",
        "svc = SVC()\n",
        "svc.fit(ss_train_X,train_y)\n",
        "predictions = svc.predict(ss_test_X)\n",
        "from sklearn.metrics import accuracy_score, f1_score,recall_score, precision_score\n",
        "accuracy = accuracy_score(test_y,predictions)\n",
        "f1 = f1_score(test_y,predictions)\n",
        "print(f'Accuracy: {accuracy} F1 Score: {f1}')"
      ],
      "execution_count": null,
      "outputs": [
        {
          "output_type": "stream",
          "text": [
            "Accuracy: 0.9510763209393346 F1 Score: 0.9749247743229689\n"
          ],
          "name": "stdout"
        }
      ]
    },
    {
      "cell_type": "markdown",
      "metadata": {
        "id": "Sxrwn4-2V3ld"
      },
      "source": [
        "# K Nearest Neighbor"
      ]
    },
    {
      "cell_type": "code",
      "metadata": {
        "colab": {
          "base_uri": "https://localhost:8080/"
        },
        "id": "ikFctbnYIQ1V",
        "outputId": "8b81c200-2d26-4202-a318-f29da23ba9dd"
      },
      "source": [
        "from sklearn import neighbors\n",
        "knn = neighbors.KNeighborsClassifier(n_neighbors=30, weights='uniform')\n",
        "knn.fit(ss_train_X,train_y)\n",
        "predictions = knn.predict(ss_test_X)\n",
        "accuracy = accuracy_score(test_y,predictions)\n",
        "f1 = f1_score(test_y,predictions)\n",
        "print(f'Accuracy: {accuracy} F1 Score: {f1}')"
      ],
      "execution_count": null,
      "outputs": [
        {
          "output_type": "stream",
          "text": [
            "Accuracy: 0.9510763209393346 F1 Score: 0.9749247743229689\n"
          ],
          "name": "stdout"
        }
      ]
    },
    {
      "cell_type": "markdown",
      "metadata": {
        "id": "e9uwARbKZUSr"
      },
      "source": [
        "# Decision Tree Classfier"
      ]
    },
    {
      "cell_type": "code",
      "metadata": {
        "colab": {
          "base_uri": "https://localhost:8080/"
        },
        "id": "0yiiYMzRLIfz",
        "outputId": "6b64fb90-427b-4ef9-d929-40ca17d8c6f8"
      },
      "source": [
        "from sklearn.tree import DecisionTreeClassifier\n",
        "dt = DecisionTreeClassifier(criterion='entropy')\n",
        "dt.fit(ss_train_X,train_y)\n",
        "predictions = dt.predict(ss_test_X)\n",
        "accuracy = accuracy_score(test_y,predictions)\n",
        "f1 = f1_score(test_y,predictions)\n",
        "print(f'Accuracy: {accuracy} F1 Score: {f1}')"
      ],
      "execution_count": null,
      "outputs": [
        {
          "output_type": "stream",
          "text": [
            "Accuracy: 0.9060665362035225 F1 Score: 0.9503619441571872\n"
          ],
          "name": "stdout"
        }
      ]
    },
    {
      "cell_type": "markdown",
      "metadata": {
        "id": "CLKTQvAHZZQT"
      },
      "source": [
        "# Random Forest Classfier"
      ]
    },
    {
      "cell_type": "code",
      "metadata": {
        "colab": {
          "base_uri": "https://localhost:8080/"
        },
        "id": "ngkkURk_LdEj",
        "outputId": "e14c26f6-84a4-4c30-af54-c00426d0dd67"
      },
      "source": [
        "from sklearn.ensemble import RandomForestClassifier\n",
        "rf = RandomForestClassifier(n_estimators=1000, n_jobs=-1, verbose=0)\n",
        "rf.fit(ss_train_X,train_y)\n",
        "predictions = rf.predict(ss_test_X)\n",
        "accuracy = accuracy_score(test_y,predictions)\n",
        "f1 = f1_score(test_y,predictions)\n",
        "print(f'Accuracy: {accuracy} F1 Score: {f1}')"
      ],
      "execution_count": null,
      "outputs": [
        {
          "output_type": "stream",
          "text": [
            "Accuracy: 0.9510763209393346 F1 Score: 0.9748995983935742\n"
          ],
          "name": "stdout"
        }
      ]
    },
    {
      "cell_type": "markdown",
      "metadata": {
        "id": "ggbZodhnZenK"
      },
      "source": [
        "# Gaussian Naive Bayes"
      ]
    },
    {
      "cell_type": "code",
      "metadata": {
        "colab": {
          "base_uri": "https://localhost:8080/"
        },
        "id": "U3dj9A-yLzLK",
        "outputId": "b04b630c-3ad4-422b-96a4-dd20ac1ef581"
      },
      "source": [
        "from sklearn.naive_bayes import GaussianNB\n",
        "gnb = GaussianNB()\n",
        "gnb.fit(ss_train_X,train_y)\n",
        "predictions = gnb.predict(ss_test_X)\n",
        "accuracy = accuracy_score(test_y,predictions)\n",
        "f1 = f1_score(test_y,predictions)\n",
        "print(f'Accuracy: {accuracy} F1 Score: {f1}')"
      ],
      "execution_count": null,
      "outputs": [
        {
          "output_type": "stream",
          "text": [
            "Accuracy: 0.87279843444227 F1 Score: 0.9303322615219721\n"
          ],
          "name": "stdout"
        }
      ]
    },
    {
      "cell_type": "markdown",
      "metadata": {
        "id": "yuiiZIfZZi7y"
      },
      "source": [
        "# Multinomial Naive Bayes"
      ]
    },
    {
      "cell_type": "code",
      "metadata": {
        "colab": {
          "base_uri": "https://localhost:8080/"
        },
        "id": "LK7e2ydhL7qS",
        "outputId": "45433408-78ca-46ff-d9fc-fcc8859cfc44"
      },
      "source": [
        "from sklearn.naive_bayes import MultinomialNB\n",
        "clf = MultinomialNB()\n",
        "clf.fit(l_train_X,train_y)\n",
        "predictions = clf.predict(l_test_X)\n",
        "accuracy = accuracy_score(test_y,predictions)\n",
        "f1 = f1_score(test_y,predictions)\n",
        "print(f'Accuracy: {accuracy} F1 Score: {f1}')"
      ],
      "execution_count": null,
      "outputs": [
        {
          "output_type": "stream",
          "text": [
            "Accuracy: 0.812133072407045 F1 Score: 0.893687707641196\n"
          ],
          "name": "stdout"
        }
      ]
    },
    {
      "cell_type": "markdown",
      "metadata": {
        "id": "YaiQnbYdZmFT"
      },
      "source": [
        "# Logistic Regression"
      ]
    },
    {
      "cell_type": "code",
      "metadata": {
        "colab": {
          "base_uri": "https://localhost:8080/"
        },
        "id": "E3SqMNYcMgNS",
        "outputId": "15bcad20-421f-475c-ba20-da3fbf121566"
      },
      "source": [
        "from sklearn.linear_model import LogisticRegression\n",
        "lo_reg = LogisticRegression()\n",
        "model = lo_reg.fit(ss_train_X,train_y)\n",
        "predictions = model.predict(ss_test_X)\n",
        "accuracy = accuracy_score(test_y,predictions)\n",
        "f1 = f1_score(test_y,predictions)\n",
        "print(f'Accuracy: {accuracy} F1 Score: {f1}')"
      ],
      "execution_count": null,
      "outputs": [
        {
          "output_type": "stream",
          "text": [
            "Accuracy: 0.9510763209393346 F1 Score: 0.9749247743229689\n"
          ],
          "name": "stdout"
        }
      ]
    }
  ]
}
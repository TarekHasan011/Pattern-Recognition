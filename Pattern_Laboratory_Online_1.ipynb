{
  "nbformat": 4,
  "nbformat_minor": 0,
  "metadata": {
    "colab": {
      "name": "Pattern_Laboratory_Online_1.ipynb",
      "provenance": [],
      "include_colab_link": true
    },
    "kernelspec": {
      "name": "python3",
      "display_name": "Python 3"
    },
    "language_info": {
      "name": "python"
    }
  },
  "cells": [
    {
      "cell_type": "markdown",
      "metadata": {
        "id": "view-in-github",
        "colab_type": "text"
      },
      "source": [
        "<a href=\"https://colab.research.google.com/github/TarekHasan011/Pattern-Recognition/blob/main/Pattern_Laboratory_Online_1.ipynb\" target=\"_parent\"><img src=\"https://colab.research.google.com/assets/colab-badge.svg\" alt=\"Open In Colab\"/></a>"
      ]
    },
    {
      "cell_type": "markdown",
      "metadata": {
        "id": "-S42iiO9Z0en"
      },
      "source": [
        "# Reading Data"
      ]
    },
    {
      "cell_type": "code",
      "metadata": {
        "id": "aCwAkAv8YsDD"
      },
      "source": [
        "import pandas as pd\n",
        "from pandas.api.types import is_string_dtype\n",
        "data = pd.read_csv('hepatitis.csv', na_values='?')\n",
        "\n",
        "for column in data.columns:\n",
        "  if (is_string_dtype(data[column].dtype)):\n",
        "    data[column] = data[column].str.strip()"
      ],
      "execution_count": null,
      "outputs": []
    },
    {
      "cell_type": "markdown",
      "metadata": {
        "id": "7HobFu_XaEE_"
      },
      "source": [
        "# Spliting Data"
      ]
    },
    {
      "cell_type": "code",
      "metadata": {
        "id": "pX0jcs3vZ9af"
      },
      "source": [
        "from sklearn.model_selection import train_test_split\n",
        "X = data.loc[:, data.columns != 'Class']\n",
        "y = data['Class']\n",
        "train_X, test_X, train_y, test_y = train_test_split(X,y,test_size=0.1,stratify=y, random_state=5)\n"
      ],
      "execution_count": null,
      "outputs": []
    },
    {
      "cell_type": "markdown",
      "metadata": {
        "id": "rkGTp_-qbM_4"
      },
      "source": [
        "# Handling Missing Values"
      ]
    },
    {
      "cell_type": "code",
      "metadata": {
        "id": "Wa2lhcUvbSoo"
      },
      "source": [
        "from sklearn.impute import SimpleImputer\n",
        "from pandas.api.types import is_string_dtype\n",
        "\n",
        "si_train_X = pd.DataFrame()\n",
        "si_test_X = pd.DataFrame()\n",
        "\n",
        "for column in train_X.columns:\n",
        "  if (is_string_dtype(train_X[column].dtype)):\n",
        "    si = SimpleImputer(strategy='most_frequent')\n",
        "  else:\n",
        "    si = SimpleImputer(strategy='median')\n",
        "  si.fit(train_X[[column]])\n",
        "  si_train_X[column] = si.transform(train_X[[column]]).flatten()\n",
        "  si_test_X[column] = si.transform(test_X[[column]]).flatten()"
      ],
      "execution_count": null,
      "outputs": []
    },
    {
      "cell_type": "markdown",
      "metadata": {
        "id": "G2gzwTIGctJx"
      },
      "source": [
        "# Handling Text Features"
      ]
    },
    {
      "cell_type": "code",
      "metadata": {
        "id": "JX-IfYhycwFw"
      },
      "source": [
        "from sklearn.preprocessing import LabelEncoder\n",
        "le = LabelEncoder()\n",
        "le.fit(train_y)\n",
        "train_y = le.transform(train_y)\n",
        "test_y = le.transform(test_y)\n",
        "\n",
        "continuous_feature = ['AGE','BILIRUBIN','ALK PHOSPHATE','SGOT','ALBUMIN','PROTIME']\n",
        "l_train_X = pd.DataFrame()\n",
        "l_test_X = pd.DataFrame()\n",
        "\n",
        "for column in train_X.columns:\n",
        "  if column not in continuous_feature:\n",
        "    le.fit(si_train_X[column])\n",
        "    l_train_X[column] = le.transform(si_train_X[column])\n",
        "    l_test_X[column] = le.transform(si_test_X[column])\n",
        "  else:\n",
        "    l_train_X[column] = si_train_X[column].copy()\n",
        "    l_test_X[column] = si_test_X[column].copy()"
      ],
      "execution_count": null,
      "outputs": []
    },
    {
      "cell_type": "markdown",
      "metadata": {
        "id": "U-BmGS8le3nA"
      },
      "source": [
        "# Scaling"
      ]
    },
    {
      "cell_type": "code",
      "metadata": {
        "id": "8wO3KdOEe52e"
      },
      "source": [
        "from sklearn.preprocessing import StandardScaler\n",
        "ss = StandardScaler()\n",
        "ss.fit(l_train_X)\n",
        "ss_train_X = ss.transform(l_train_X)\n",
        "ss_test_X = ss.transform(l_test_X)"
      ],
      "execution_count": null,
      "outputs": []
    },
    {
      "cell_type": "markdown",
      "metadata": {
        "id": "Afxf_aIlfjqg"
      },
      "source": [
        "# Training Phase using SVM"
      ]
    },
    {
      "cell_type": "code",
      "metadata": {
        "colab": {
          "base_uri": "https://localhost:8080/"
        },
        "id": "gDop3qn-fmMe",
        "outputId": "35466b11-2a02-45cc-becd-e8d083ced68a"
      },
      "source": [
        "from sklearn.svm import SVC\n",
        "svc = SVC()\n",
        "svc.fit(ss_train_X,train_y)"
      ],
      "execution_count": null,
      "outputs": [
        {
          "output_type": "execute_result",
          "data": {
            "text/plain": [
              "SVC(C=1.0, break_ties=False, cache_size=200, class_weight=None, coef0=0.0,\n",
              "    decision_function_shape='ovr', degree=3, gamma='scale', kernel='rbf',\n",
              "    max_iter=-1, probability=False, random_state=None, shrinking=True,\n",
              "    tol=0.001, verbose=False)"
            ]
          },
          "metadata": {
            "tags": []
          },
          "execution_count": 129
        }
      ]
    },
    {
      "cell_type": "markdown",
      "metadata": {
        "id": "LSFvv7EJfw5A"
      },
      "source": [
        "# Test Phase"
      ]
    },
    {
      "cell_type": "code",
      "metadata": {
        "id": "IFcA2-9afzmo"
      },
      "source": [
        "predictions = svc.predict(ss_test_X)"
      ],
      "execution_count": null,
      "outputs": []
    },
    {
      "cell_type": "markdown",
      "metadata": {
        "id": "U70rH4tXgEbI"
      },
      "source": [
        "# Performance Analysis"
      ]
    },
    {
      "cell_type": "code",
      "metadata": {
        "colab": {
          "base_uri": "https://localhost:8080/"
        },
        "id": "J8muVzuPgIxo",
        "outputId": "b1cfcaea-8fca-4265-c86b-d4fae6dc5c7b"
      },
      "source": [
        "from sklearn.metrics import accuracy_score, f1_score,recall_score, precision_score\n",
        "accuracy = accuracy_score(test_y,predictions)\n",
        "f1 = f1_score(test_y,predictions)\n",
        "print(f'{accuracy} {f1}')"
      ],
      "execution_count": null,
      "outputs": [
        {
          "output_type": "stream",
          "text": [
            "0.9375 0.962962962962963\n"
          ],
          "name": "stdout"
        }
      ]
    }
  ]
}